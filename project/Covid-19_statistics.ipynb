{
 "cells": [
  {
   "cell_type": "markdown",
   "id": "1cdcf037",
   "metadata": {},
   "source": [
    "### Covid-19 статистика по США и Великобритании\n",
    "Данные были получены с github по ссылке: https://github.com/owid/covid-19-data/tree/master/public/data\n",
    "\n",
    "### Цели\n",
    "Оценить основные показатели по Covid-19 и сравнить страны между собой по данным показателям."
   ]
  },
  {
   "cell_type": "code",
   "execution_count": 460,
   "id": "f7aff45a",
   "metadata": {},
   "outputs": [],
   "source": [
    "import numpy as np\n",
    "import pandas as pd\n",
    "import scipy as sp\n",
    "import matplotlib.pyplot as plt\n",
    "import statsmodels.api as sm\n",
    "import seaborn as sns\n",
    "from scipy import stats"
   ]
  },
  {
   "cell_type": "code",
   "execution_count": 435,
   "id": "8ee597a7",
   "metadata": {},
   "outputs": [],
   "source": [
    "data = pd.read_csv('/home/viktor/Documents/GB_HW/Theory_of_Probability/project/owid-covid-data.csv',\\\n",
    "                  index_col = ['date'], sep=',', parse_dates = ['date'], decimal = '.')"
   ]
  },
  {
   "cell_type": "code",
   "execution_count": 955,
   "id": "cbe8dd27",
   "metadata": {},
   "outputs": [],
   "source": [
    "# functions for estimating statistics of linear regression\n",
    "\n",
    "def linearRegression(a, b):\n",
    "    \n",
    "    new_dict = {'var1': a, 'var2': b}\n",
    "    df = pd.DataFrame(data=new_dict)\n",
    "    y1 = df['var1'].values\n",
    "    x1 = df['var2'].values\n",
    "    # Linear Regression Method\n",
    "    b1 = (np.mean(x1 * y1) - np.mean(x1) * np.mean(y1)) / (np.mean(x1 ** 2) - np.mean(x1) ** 2)\n",
    "    b0 = np.mean(y1) - b1 * np.mean(x1)\n",
    "    return b1, b0, y1, x1\n",
    "\n",
    "\n",
    "def MAE(y_real, y_pred):\n",
    "    return print(f'Ошибка: {round(np.abs((y_real - y_pred) / y_real).mean(), 3)*100}%')\n",
    "\n",
    "\n",
    "def statEstimate(R, k1, n):\n",
    "    k2 = n - k1 - 1\n",
    "    alpha = 0.05\n",
    "    F = (R2 / (1 - R2)) * (k2 / k1)\n",
    "    Fc = sp.stats.f.ppf(1 - alpha, k1, k2)\n",
    "    if F > Fc:\n",
    "        return print(f\"{F=} > {Fc=} -> уравнение регрессии статистически значимо\")\n",
    "    else:\n",
    "        return print(f\"{F=} < {Fc=} -> уравнение регрессии статистически незначимо\")\n",
    "    \n",
    "    \n",
    "def standard_error_slope(x, y, z):\n",
    "    n = x.shape[0]\n",
    "\n",
    "    upper = ((y - z) ** 2).sum() / (n - 2)\n",
    "    lower = ((x - x.mean()) ** 2).sum()\n",
    "\n",
    "    return np.sqrt(upper / lower)\n",
    "\n",
    "\n",
    "def standard_error_intercept(x, y, z):\n",
    "    return standard_error_slope(x, y, z) * np.sqrt((x ** 2).mean())\n",
    "\n",
    "\n",
    "def b1_errorEstimate(b1, x, y, z, k1, n):\n",
    "    alpha = 0.05\n",
    "    s_slope = standard_error_slope(x, y, z)\n",
    "    k2 = n-k1-1\n",
    "    T = abs(b1 / s_slope)\n",
    "    Tc = sp.stats.t.ppf(1-alpha/2, k2-2)\n",
    "    if T > Tc:\n",
    "        return print(f\"{T=} > {Tc=} ->  гипотеза H0 (b1 = 0) отвергается => b1 значим\")\n",
    "    else:\n",
    "        return print(f\"{T=} < {Tc=} -> гипотеза H0 (b1 = 0) принимается => b1 незначим\")\n",
    "    \n",
    "\n",
    "def b0__errorEstimate(b0, x, y, z, k1, n):\n",
    "    alpha = 0.05\n",
    "    s_intercept = standard_error_intercept(x, y, z)\n",
    "    k2 = n - k1 -1\n",
    "    T = b0 / s_intercept\n",
    "    Tc = sp.stats.t.ppf(1-alpha/2, k2-2)\n",
    "    if T > Tc:\n",
    "        return print(f\"{T=} > {Tc=} ->  гипотеза H0 (b0 = 0) отвергается => b0 значим\")\n",
    "    else:\n",
    "        return print(f\"{T=} < {Tc=} -> гипотеза H0 (b0 = 0) принимается => b0 незначим\")\n",
    "    \n",
    "def b1_confidence(b1, x, y, z, k1, n):\n",
    "    k2 = n - k1 - 1\n",
    "    s_slope = standard_error_slope(x, y, z)\n",
    "    Tc = sp.stats.t.ppf(1-alpha/2, k2)\n",
    "    return print(f'95% доверительный интервал для b1:{(b1 - t * s_slope, b1 + t * s_slope)}')\n",
    "\n",
    "def b0_confidence(b0, x, y, z, k1, n):\n",
    "    k2 = n - k1 - 1\n",
    "    s_intercept = standard_error_intercept(x, y, z)\n",
    "    Tc = sp.stats.t.ppf(1-alpha/2, k2)\n",
    "    return print(f'95% доверительный интервал для b0: {(b0 - t * s_intercept, b0 + t * s_intercept)}')\n",
    "    \n",
    "\n",
    "def disspersionAnalysis(a, b):\n",
    "    k = 2\n",
    "    alpha = 0.05\n",
    "    a_mean = np.mean(a)\n",
    "    b_mean = np.mean(b)\n",
    "    n1 = len(a)\n",
    "    n2 = len(b)\n",
    "    all_mean = np.mean(np.concatenate([a, b]))\n",
    "    S2_F = n1 * (a_mean - all_mean) ** 2 + n2 * (b_mean - all_mean) ** 2\n",
    "    S2_res = ((a - a_mean) ** 2).sum() + ((b - b_mean) ** 2).sum()\n",
    "    \n",
    "    n = n1 + n2\n",
    "    k1 = k - 1\n",
    "    k2 = n - k\n",
    "\n",
    "    sigma2_F = S2_F / k1\n",
    "    sigma2_res = S2_res / k2\n",
    "    \n",
    "    T = sigma2_F / sigma2_res\n",
    "    F_c = stats.f.ppf(1 - alpha, k1, k2)\n",
    "    \n",
    "    if T > F_crit:\n",
    "        return print(f'{T=}>{F_c=} -> различие выборок является статистически значимым!')\n",
    "    else:\n",
    "        return print(f'{T=}>{F_c=} -> различие выборок незначимо!')"
   ]
  },
  {
   "cell_type": "code",
   "execution_count": 980,
   "id": "3846e163",
   "metadata": {},
   "outputs": [],
   "source": [
    "### supporting functions \n",
    "\n",
    "def calcAverage(data):\n",
    "    cases_per_month = dict()\n",
    "    new_cases = []\n",
    "    month = 1\n",
    "    n = 1\n",
    "\n",
    "    for i in data:\n",
    "        new_cases.append(i)\n",
    "        if n % 30 == 0:\n",
    "            cases_per_month.update({month:new_cases})\n",
    "            new_cases = []\n",
    "            month += 1\n",
    "        n += 1\n",
    "    return pd.DataFrame.from_dict(cases_per_month)\n",
    "\n",
    "\n",
    "def meanPerMonth(data, n):\n",
    "    mean_cases = []\n",
    "    \n",
    "    for i in data:\n",
    "        if i >= n:\n",
    "            x = data[i].values\n",
    "            val = np.nanmean(x)\n",
    "            if pd.isnull(val):\n",
    "                mean_cases.append(0)\n",
    "            else:\n",
    "                mean_cases.append(val)\n",
    "    return mean_cases"
   ]
  },
  {
   "cell_type": "markdown",
   "id": "740a1d86",
   "metadata": {},
   "source": [
    "### Covid statistics for USA"
   ]
  },
  {
   "cell_type": "code",
   "execution_count": 444,
   "id": "eaf3f12a",
   "metadata": {},
   "outputs": [
    {
     "data": {
      "text/html": [
       "<div>\n",
       "<style scoped>\n",
       "    .dataframe tbody tr th:only-of-type {\n",
       "        vertical-align: middle;\n",
       "    }\n",
       "\n",
       "    .dataframe tbody tr th {\n",
       "        vertical-align: top;\n",
       "    }\n",
       "\n",
       "    .dataframe thead th {\n",
       "        text-align: right;\n",
       "    }\n",
       "</style>\n",
       "<table border=\"1\" class=\"dataframe\">\n",
       "  <thead>\n",
       "    <tr style=\"text-align: right;\">\n",
       "      <th></th>\n",
       "      <th>iso_code</th>\n",
       "      <th>continent</th>\n",
       "      <th>location</th>\n",
       "      <th>total_cases</th>\n",
       "      <th>new_cases</th>\n",
       "      <th>new_cases_smoothed</th>\n",
       "      <th>total_deaths</th>\n",
       "      <th>new_deaths</th>\n",
       "      <th>new_deaths_smoothed</th>\n",
       "      <th>total_cases_per_million</th>\n",
       "      <th>...</th>\n",
       "      <th>female_smokers</th>\n",
       "      <th>male_smokers</th>\n",
       "      <th>handwashing_facilities</th>\n",
       "      <th>hospital_beds_per_thousand</th>\n",
       "      <th>life_expectancy</th>\n",
       "      <th>human_development_index</th>\n",
       "      <th>excess_mortality_cumulative_absolute</th>\n",
       "      <th>excess_mortality_cumulative</th>\n",
       "      <th>excess_mortality</th>\n",
       "      <th>excess_mortality_cumulative_per_million</th>\n",
       "    </tr>\n",
       "    <tr>\n",
       "      <th>date</th>\n",
       "      <th></th>\n",
       "      <th></th>\n",
       "      <th></th>\n",
       "      <th></th>\n",
       "      <th></th>\n",
       "      <th></th>\n",
       "      <th></th>\n",
       "      <th></th>\n",
       "      <th></th>\n",
       "      <th></th>\n",
       "      <th></th>\n",
       "      <th></th>\n",
       "      <th></th>\n",
       "      <th></th>\n",
       "      <th></th>\n",
       "      <th></th>\n",
       "      <th></th>\n",
       "      <th></th>\n",
       "      <th></th>\n",
       "      <th></th>\n",
       "      <th></th>\n",
       "    </tr>\n",
       "  </thead>\n",
       "  <tbody>\n",
       "    <tr>\n",
       "      <th>2020-01-22</th>\n",
       "      <td>USA</td>\n",
       "      <td>North America</td>\n",
       "      <td>United States</td>\n",
       "      <td>1.0</td>\n",
       "      <td>NaN</td>\n",
       "      <td>NaN</td>\n",
       "      <td>NaN</td>\n",
       "      <td>NaN</td>\n",
       "      <td>NaN</td>\n",
       "      <td>0.003</td>\n",
       "      <td>...</td>\n",
       "      <td>19.1</td>\n",
       "      <td>24.6</td>\n",
       "      <td>NaN</td>\n",
       "      <td>2.77</td>\n",
       "      <td>78.86</td>\n",
       "      <td>0.926</td>\n",
       "      <td>NaN</td>\n",
       "      <td>NaN</td>\n",
       "      <td>NaN</td>\n",
       "      <td>NaN</td>\n",
       "    </tr>\n",
       "    <tr>\n",
       "      <th>2020-01-23</th>\n",
       "      <td>USA</td>\n",
       "      <td>North America</td>\n",
       "      <td>United States</td>\n",
       "      <td>1.0</td>\n",
       "      <td>0.0</td>\n",
       "      <td>NaN</td>\n",
       "      <td>NaN</td>\n",
       "      <td>NaN</td>\n",
       "      <td>NaN</td>\n",
       "      <td>0.003</td>\n",
       "      <td>...</td>\n",
       "      <td>19.1</td>\n",
       "      <td>24.6</td>\n",
       "      <td>NaN</td>\n",
       "      <td>2.77</td>\n",
       "      <td>78.86</td>\n",
       "      <td>0.926</td>\n",
       "      <td>NaN</td>\n",
       "      <td>NaN</td>\n",
       "      <td>NaN</td>\n",
       "      <td>NaN</td>\n",
       "    </tr>\n",
       "    <tr>\n",
       "      <th>2020-01-24</th>\n",
       "      <td>USA</td>\n",
       "      <td>North America</td>\n",
       "      <td>United States</td>\n",
       "      <td>2.0</td>\n",
       "      <td>1.0</td>\n",
       "      <td>NaN</td>\n",
       "      <td>NaN</td>\n",
       "      <td>NaN</td>\n",
       "      <td>NaN</td>\n",
       "      <td>0.006</td>\n",
       "      <td>...</td>\n",
       "      <td>19.1</td>\n",
       "      <td>24.6</td>\n",
       "      <td>NaN</td>\n",
       "      <td>2.77</td>\n",
       "      <td>78.86</td>\n",
       "      <td>0.926</td>\n",
       "      <td>NaN</td>\n",
       "      <td>NaN</td>\n",
       "      <td>NaN</td>\n",
       "      <td>NaN</td>\n",
       "    </tr>\n",
       "    <tr>\n",
       "      <th>2020-01-25</th>\n",
       "      <td>USA</td>\n",
       "      <td>North America</td>\n",
       "      <td>United States</td>\n",
       "      <td>2.0</td>\n",
       "      <td>0.0</td>\n",
       "      <td>NaN</td>\n",
       "      <td>NaN</td>\n",
       "      <td>NaN</td>\n",
       "      <td>NaN</td>\n",
       "      <td>0.006</td>\n",
       "      <td>...</td>\n",
       "      <td>19.1</td>\n",
       "      <td>24.6</td>\n",
       "      <td>NaN</td>\n",
       "      <td>2.77</td>\n",
       "      <td>78.86</td>\n",
       "      <td>0.926</td>\n",
       "      <td>NaN</td>\n",
       "      <td>NaN</td>\n",
       "      <td>NaN</td>\n",
       "      <td>NaN</td>\n",
       "    </tr>\n",
       "    <tr>\n",
       "      <th>2020-01-26</th>\n",
       "      <td>USA</td>\n",
       "      <td>North America</td>\n",
       "      <td>United States</td>\n",
       "      <td>5.0</td>\n",
       "      <td>3.0</td>\n",
       "      <td>NaN</td>\n",
       "      <td>NaN</td>\n",
       "      <td>NaN</td>\n",
       "      <td>NaN</td>\n",
       "      <td>0.015</td>\n",
       "      <td>...</td>\n",
       "      <td>19.1</td>\n",
       "      <td>24.6</td>\n",
       "      <td>NaN</td>\n",
       "      <td>2.77</td>\n",
       "      <td>78.86</td>\n",
       "      <td>0.926</td>\n",
       "      <td>-8988.0</td>\n",
       "      <td>-3.62</td>\n",
       "      <td>-2.65</td>\n",
       "      <td>-26.997876</td>\n",
       "    </tr>\n",
       "  </tbody>\n",
       "</table>\n",
       "<p>5 rows × 66 columns</p>\n",
       "</div>"
      ],
      "text/plain": [
       "           iso_code      continent       location  total_cases  new_cases  \\\n",
       "date                                                                        \n",
       "2020-01-22      USA  North America  United States          1.0        NaN   \n",
       "2020-01-23      USA  North America  United States          1.0        0.0   \n",
       "2020-01-24      USA  North America  United States          2.0        1.0   \n",
       "2020-01-25      USA  North America  United States          2.0        0.0   \n",
       "2020-01-26      USA  North America  United States          5.0        3.0   \n",
       "\n",
       "            new_cases_smoothed  total_deaths  new_deaths  new_deaths_smoothed  \\\n",
       "date                                                                            \n",
       "2020-01-22                 NaN           NaN         NaN                  NaN   \n",
       "2020-01-23                 NaN           NaN         NaN                  NaN   \n",
       "2020-01-24                 NaN           NaN         NaN                  NaN   \n",
       "2020-01-25                 NaN           NaN         NaN                  NaN   \n",
       "2020-01-26                 NaN           NaN         NaN                  NaN   \n",
       "\n",
       "            total_cases_per_million  ...  female_smokers  male_smokers  \\\n",
       "date                                 ...                                 \n",
       "2020-01-22                    0.003  ...            19.1          24.6   \n",
       "2020-01-23                    0.003  ...            19.1          24.6   \n",
       "2020-01-24                    0.006  ...            19.1          24.6   \n",
       "2020-01-25                    0.006  ...            19.1          24.6   \n",
       "2020-01-26                    0.015  ...            19.1          24.6   \n",
       "\n",
       "            handwashing_facilities  hospital_beds_per_thousand  \\\n",
       "date                                                             \n",
       "2020-01-22                     NaN                        2.77   \n",
       "2020-01-23                     NaN                        2.77   \n",
       "2020-01-24                     NaN                        2.77   \n",
       "2020-01-25                     NaN                        2.77   \n",
       "2020-01-26                     NaN                        2.77   \n",
       "\n",
       "            life_expectancy  human_development_index  \\\n",
       "date                                                   \n",
       "2020-01-22            78.86                    0.926   \n",
       "2020-01-23            78.86                    0.926   \n",
       "2020-01-24            78.86                    0.926   \n",
       "2020-01-25            78.86                    0.926   \n",
       "2020-01-26            78.86                    0.926   \n",
       "\n",
       "            excess_mortality_cumulative_absolute  excess_mortality_cumulative  \\\n",
       "date                                                                            \n",
       "2020-01-22                                   NaN                          NaN   \n",
       "2020-01-23                                   NaN                          NaN   \n",
       "2020-01-24                                   NaN                          NaN   \n",
       "2020-01-25                                   NaN                          NaN   \n",
       "2020-01-26                               -8988.0                        -3.62   \n",
       "\n",
       "            excess_mortality  excess_mortality_cumulative_per_million  \n",
       "date                                                                   \n",
       "2020-01-22               NaN                                      NaN  \n",
       "2020-01-23               NaN                                      NaN  \n",
       "2020-01-24               NaN                                      NaN  \n",
       "2020-01-25               NaN                                      NaN  \n",
       "2020-01-26             -2.65                               -26.997876  \n",
       "\n",
       "[5 rows x 66 columns]"
      ]
     },
     "execution_count": 444,
     "metadata": {},
     "output_type": "execute_result"
    }
   ],
   "source": [
    "df_us = data[data['iso_code'] == 'USA']\n",
    "df_us.head()"
   ]
  },
  {
   "cell_type": "code",
   "execution_count": 544,
   "id": "478ada02",
   "metadata": {
    "scrolled": true
   },
   "outputs": [
    {
     "data": {
      "image/png": "[encoded data removed]",
      "text/plain": [
       "<Figure size 936x360 with 1 Axes>"
      ]
     },
     "metadata": {
      "needs_background": "light"
     },
     "output_type": "display_data"
    }
   ],
   "source": [
    "plt.figure(figsize = (13, 5))\n",
    "plt.plot(df_us.new_cases_smoothed, label = 'New cases')\n",
    "plt.plot(df_us.new_vaccinations_smoothed, label = 'New vaccination cases')\n",
    "plt.plot(df_us.people_vaccinated_per_hundred, label = 'Relative vaccination rate, %')\n",
    "plt.plot(df_us.new_deaths_smoothed, label = 'New death cases')\n",
    "plt.yscale('log')\n",
    "plt.axhline(y=100, color='y', linestyle='-', label = 'Potential 100% vaccination rate')\n",
    "plt.xlabel('Date', fontsize = 14)\n",
    "plt.ylabel('Number of cases', fontsize = 14)\n",
    "plt.title('Covid conditions in USA', fontsize = 16)\n",
    "plt.legend()\n",
    "plt.show()"
   ]
  },
  {
   "cell_type": "markdown",
   "id": "4717e868",
   "metadata": {},
   "source": [
    "### ГИПОТЕЗА\n",
    "Скорость вакцинации населения уменьшает рост новых случаев Covid-19\n",
    "### ЗАДАЧА\n",
    "Оценить корреляцию новых случаев в США Covid-19 от скорости вакцинации"
   ]
  },
  {
   "cell_type": "code",
   "execution_count": 855,
   "id": "b5cbafb9",
   "metadata": {},
   "outputs": [
    {
     "data": {
      "image/png": "[encoded data removed]",
      "text/plain": [
       "<Figure size 864x360 with 1 Axes>"
      ]
     },
     "metadata": {
      "needs_background": "light"
     },
     "output_type": "display_data"
    }
   ],
   "source": [
    "cases_per_month_us = calcAverage(df_us.new_cases_per_million)\n",
    "\n",
    "plt.figure(figsize = (12, 5))\n",
    "sns.boxplot(data=cases_per_month_us)\n",
    "plt.ylabel('New cases per million', fontsize = 16)\n",
    "plt.xlabel('Months of pandemy (30 days)', fontsize = 16)\n",
    "plt.show()"
   ]
  },
  {
   "cell_type": "code",
   "execution_count": 843,
   "id": "802e93a2",
   "metadata": {
    "scrolled": true
   },
   "outputs": [
    {
     "data": {
      "image/png": "[encoded data removed]",
      "text/plain": [
       "<Figure size 864x360 with 1 Axes>"
      ]
     },
     "metadata": {
      "needs_background": "light"
     },
     "output_type": "display_data"
    }
   ],
   "source": [
    "vaccine_per_month_us = calcAverage(df_us.new_vaccinations_smoothed_per_million)\n",
    "\n",
    "plt.figure(figsize = (12, 5))\n",
    "sns.boxplot(data=vaccine_per_month_us)\n",
    "plt.ylabel('Vaccination cases per million', fontsize = 16)\n",
    "plt.xlabel('Months of pandemy (30 days)', fontsize = 16)\n",
    "plt.show()"
   ]
  },
  {
   "cell_type": "code",
   "execution_count": 847,
   "id": "9838dc4d",
   "metadata": {},
   "outputs": [
    {
     "name": "stdout",
     "output_type": "stream",
     "text": [
      "[582.6233333333333, 658.2042000000001, 407.3829, 184.3437333333334, 195.31053333333332, 143.53223333333335, 55.03263333333333, 47.97943333333333, 267.0930333333333, 441.0033, 350.70820000000003, 226.4186, 302.0389333333333]\n",
      "[104.33333333333333, 1451.4333333333334, 4316.5, 6374.366666666667, 9133.533333333333, 7343.533333333334, 3951.6, 1836.7666666666667, 1807.8, 2366.8, 2357.766666666667, 3209.4333333333334, 4225.4]\n"
     ]
    }
   ],
   "source": [
    "mean_cases_us = meanPerMonth(cases_per_month_us, 11)\n",
    "mean_vaccine_us = meanPerMonth(vaccine_per_month_us, 11)\n",
    "\n",
    "print(mean_cases_us)\n",
    "print(mean_vaccine_us)"
   ]
  },
  {
   "cell_type": "code",
   "execution_count": 848,
   "id": "4296b475",
   "metadata": {},
   "outputs": [
    {
     "name": "stdout",
     "output_type": "stream",
     "text": [
      "-0.03711533764977074 435.46118600102125\n"
     ]
    }
   ],
   "source": [
    "b1, b0, y1, x1 = linearRegression(mean_cases_us, mean_vaccine_us)\n",
    "print(b1, b0)"
   ]
  },
  {
   "cell_type": "code",
   "execution_count": 849,
   "id": "8f697682",
   "metadata": {},
   "outputs": [
    {
     "data": {
      "image/png": "[encoded data removed]",
      "text/plain": [
       "<Figure size 576x360 with 1 Axes>"
      ]
     },
     "metadata": {
      "needs_background": "light"
     },
     "output_type": "display_data"
    }
   ],
   "source": [
    "ox = x1\n",
    "oy = b0 + b1 * ox\n",
    "\n",
    "plt.figure(figsize = (8, 5))\n",
    "plt.scatter(x1, y1, label='Data')\n",
    "plt.plot(ox, oy, color='red', label='Model')\n",
    "plt.xlabel('Vaccination rate', fontsize = 18)\n",
    "plt.ylabel('New cases', fontsize = 18)\n",
    "plt.legend(loc='best')\n",
    "plt.show()"
   ]
  },
  {
   "cell_type": "code",
   "execution_count": 856,
   "id": "d4b549e1",
   "metadata": {},
   "outputs": [
    {
     "name": "stdout",
     "output_type": "stream",
     "text": [
      "real: [582.62333333 658.2042     407.3829     184.34373333 195.31053333\n",
      " 143.53223333  55.03263333  47.97943333 267.09303333 441.0033\n",
      " 350.7082     226.4186     302.03893333]\n",
      "pred: [431.58881911 381.59074776 275.25283104 198.87441486  96.4670124\n",
      " 162.90346679 288.79621774 367.28897098 368.3640786  347.61660485\n",
      " 347.95188007 316.34198417 278.6340383 ]\n",
      "Ошибка: 105.4%\n"
     ]
    }
   ],
   "source": [
    "z1 = b0 + b1 * x1\n",
    "\n",
    "print(f'real: {y1}')\n",
    "print(f'pred: {z1}')\n",
    "\n",
    "MAE(y1, z1)"
   ]
  },
  {
   "cell_type": "code",
   "execution_count": 857,
   "id": "0b45bf18",
   "metadata": {},
   "outputs": [
    {
     "name": "stdout",
     "output_type": "stream",
     "text": [
      "The coefficient of determination: 0.2602440469883286\n",
      "F=3.8697688139137543 < Fc=4.844335674943618 -> уравнение регрессии статистически незначимо\n"
     ]
    }
   ],
   "source": [
    "### Coefficient of determination\n",
    "R2 = z1.var() / y1.var()\n",
    "print(f'The coefficient of determination: {R2}')\n",
    "\n",
    "n = len(y1)\n",
    "statEstimate(R, 1, n)"
   ]
  },
  {
   "cell_type": "markdown",
   "id": "88b595d5",
   "metadata": {},
   "source": [
    "### Вывод\n",
    "В США статистически значимая зависимость между новыми случаями Covid-19 и скоростью вакцинации не прослеживается.\n",
    "\n",
    "### Новая гипотеза\n",
    "Уровень вакцинации населения уменьшает среднюю смертность от Covid-19.\n",
    "\n",
    "### Задача\n",
    "Оценить корреляцию между уровнем вакцинации населения и средним уровнем смертности от Covid-19."
   ]
  },
  {
   "cell_type": "code",
   "execution_count": 588,
   "id": "8ae6c606",
   "metadata": {},
   "outputs": [
    {
     "data": {
      "text/html": [
       "<div>\n",
       "<style scoped>\n",
       "    .dataframe tbody tr th:only-of-type {\n",
       "        vertical-align: middle;\n",
       "    }\n",
       "\n",
       "    .dataframe tbody tr th {\n",
       "        vertical-align: top;\n",
       "    }\n",
       "\n",
       "    .dataframe thead th {\n",
       "        text-align: right;\n",
       "    }\n",
       "</style>\n",
       "<table border=\"1\" class=\"dataframe\">\n",
       "  <thead>\n",
       "    <tr style=\"text-align: right;\">\n",
       "      <th></th>\n",
       "      <th>1</th>\n",
       "      <th>2</th>\n",
       "      <th>3</th>\n",
       "      <th>4</th>\n",
       "      <th>5</th>\n",
       "      <th>6</th>\n",
       "      <th>7</th>\n",
       "      <th>8</th>\n",
       "      <th>9</th>\n",
       "      <th>10</th>\n",
       "      <th>...</th>\n",
       "      <th>14</th>\n",
       "      <th>15</th>\n",
       "      <th>16</th>\n",
       "      <th>17</th>\n",
       "      <th>18</th>\n",
       "      <th>19</th>\n",
       "      <th>20</th>\n",
       "      <th>21</th>\n",
       "      <th>22</th>\n",
       "      <th>23</th>\n",
       "    </tr>\n",
       "  </thead>\n",
       "  <tbody>\n",
       "    <tr>\n",
       "      <th>0</th>\n",
       "      <td>NaN</td>\n",
       "      <td>NaN</td>\n",
       "      <td>0.384</td>\n",
       "      <td>7.458</td>\n",
       "      <td>3.587</td>\n",
       "      <td>1.721</td>\n",
       "      <td>1.589</td>\n",
       "      <td>3.866</td>\n",
       "      <td>2.884</td>\n",
       "      <td>1.391</td>\n",
       "      <td>...</td>\n",
       "      <td>2.851</td>\n",
       "      <td>3.656</td>\n",
       "      <td>2.586</td>\n",
       "      <td>0.793</td>\n",
       "      <td>1.003</td>\n",
       "      <td>0.979</td>\n",
       "      <td>0.763</td>\n",
       "      <td>6.590</td>\n",
       "      <td>9.684</td>\n",
       "      <td>7.560</td>\n",
       "    </tr>\n",
       "    <tr>\n",
       "      <th>1</th>\n",
       "      <td>NaN</td>\n",
       "      <td>NaN</td>\n",
       "      <td>0.562</td>\n",
       "      <td>7.380</td>\n",
       "      <td>3.617</td>\n",
       "      <td>0.952</td>\n",
       "      <td>3.292</td>\n",
       "      <td>3.325</td>\n",
       "      <td>2.136</td>\n",
       "      <td>1.472</td>\n",
       "      <td>...</td>\n",
       "      <td>4.938</td>\n",
       "      <td>4.950</td>\n",
       "      <td>2.127</td>\n",
       "      <td>1.183</td>\n",
       "      <td>1.150</td>\n",
       "      <td>1.075</td>\n",
       "      <td>0.529</td>\n",
       "      <td>5.788</td>\n",
       "      <td>6.431</td>\n",
       "      <td>1.493</td>\n",
       "    </tr>\n",
       "    <tr>\n",
       "      <th>2</th>\n",
       "      <td>NaN</td>\n",
       "      <td>NaN</td>\n",
       "      <td>0.730</td>\n",
       "      <td>7.281</td>\n",
       "      <td>3.226</td>\n",
       "      <td>1.135</td>\n",
       "      <td>3.680</td>\n",
       "      <td>3.307</td>\n",
       "      <td>0.811</td>\n",
       "      <td>2.815</td>\n",
       "      <td>...</td>\n",
       "      <td>7.347</td>\n",
       "      <td>3.142</td>\n",
       "      <td>0.988</td>\n",
       "      <td>2.343</td>\n",
       "      <td>0.952</td>\n",
       "      <td>0.201</td>\n",
       "      <td>3.163</td>\n",
       "      <td>8.308</td>\n",
       "      <td>5.476</td>\n",
       "      <td>0.517</td>\n",
       "    </tr>\n",
       "    <tr>\n",
       "      <th>3</th>\n",
       "      <td>NaN</td>\n",
       "      <td>NaN</td>\n",
       "      <td>1.000</td>\n",
       "      <td>6.515</td>\n",
       "      <td>1.925</td>\n",
       "      <td>2.220</td>\n",
       "      <td>3.262</td>\n",
       "      <td>2.941</td>\n",
       "      <td>1.241</td>\n",
       "      <td>3.526</td>\n",
       "      <td>...</td>\n",
       "      <td>7.831</td>\n",
       "      <td>2.322</td>\n",
       "      <td>1.514</td>\n",
       "      <td>2.055</td>\n",
       "      <td>1.844</td>\n",
       "      <td>0.520</td>\n",
       "      <td>3.088</td>\n",
       "      <td>10.396</td>\n",
       "      <td>1.418</td>\n",
       "      <td>3.929</td>\n",
       "    </tr>\n",
       "    <tr>\n",
       "      <th>4</th>\n",
       "      <td>NaN</td>\n",
       "      <td>NaN</td>\n",
       "      <td>1.253</td>\n",
       "      <td>5.203</td>\n",
       "      <td>1.793</td>\n",
       "      <td>2.268</td>\n",
       "      <td>3.286</td>\n",
       "      <td>1.487</td>\n",
       "      <td>3.109</td>\n",
       "      <td>2.574</td>\n",
       "      <td>...</td>\n",
       "      <td>7.615</td>\n",
       "      <td>2.373</td>\n",
       "      <td>2.544</td>\n",
       "      <td>2.055</td>\n",
       "      <td>0.526</td>\n",
       "      <td>0.601</td>\n",
       "      <td>3.529</td>\n",
       "      <td>7.347</td>\n",
       "      <td>1.280</td>\n",
       "      <td>3.959</td>\n",
       "    </tr>\n",
       "  </tbody>\n",
       "</table>\n",
       "<p>5 rows × 23 columns</p>\n",
       "</div>"
      ],
      "text/plain": [
       "   1   2      3      4      5      6      7      8      9      10  ...     14  \\\n",
       "0 NaN NaN  0.384  7.458  3.587  1.721  1.589  3.866  2.884  1.391  ...  2.851   \n",
       "1 NaN NaN  0.562  7.380  3.617  0.952  3.292  3.325  2.136  1.472  ...  4.938   \n",
       "2 NaN NaN  0.730  7.281  3.226  1.135  3.680  3.307  0.811  2.815  ...  7.347   \n",
       "3 NaN NaN  1.000  6.515  1.925  2.220  3.262  2.941  1.241  3.526  ...  7.831   \n",
       "4 NaN NaN  1.253  5.203  1.793  2.268  3.286  1.487  3.109  2.574  ...  7.615   \n",
       "\n",
       "      15     16     17     18     19     20      21     22     23  \n",
       "0  3.656  2.586  0.793  1.003  0.979  0.763   6.590  9.684  7.560  \n",
       "1  4.950  2.127  1.183  1.150  1.075  0.529   5.788  6.431  1.493  \n",
       "2  3.142  0.988  2.343  0.952  0.201  3.163   8.308  5.476  0.517  \n",
       "3  2.322  1.514  2.055  1.844  0.520  3.088  10.396  1.418  3.929  \n",
       "4  2.373  2.544  2.055  0.526  0.601  3.529   7.347  1.280  3.959  \n",
       "\n",
       "[5 rows x 23 columns]"
      ]
     },
     "execution_count": 588,
     "metadata": {},
     "output_type": "execute_result"
    }
   ],
   "source": [
    "### calculation average death rate\n",
    "new_death_per_million_us = calcAverage(df_us.new_deaths_per_million)\n",
    "vaccination_rate_us = calcAverage(df_us.total_vaccinations_per_hundred)\n",
    "\n",
    "new_death_per_million_us.head()"
   ]
  },
  {
   "cell_type": "code",
   "execution_count": 589,
   "id": "c06ba575",
   "metadata": {},
   "outputs": [
    {
     "data": {
      "image/png": "[encoded data removed]",
      "text/plain": [
       "<Figure size 1080x504 with 1 Axes>"
      ]
     },
     "metadata": {
      "needs_background": "light"
     },
     "output_type": "display_data"
    }
   ],
   "source": [
    "plt.figure(figsize = (15, 7))\n",
    "sns.boxplot(data=new_death_per_million_us)\n",
    "plt.ylabel('New death cases per million', fontsize = 16)\n",
    "plt.xlabel('Months of pandemy (30 days)', fontsize = 16)\n",
    "plt.show()"
   ]
  },
  {
   "cell_type": "code",
   "execution_count": 787,
   "id": "54797901",
   "metadata": {},
   "outputs": [
    {
     "name": "stdout",
     "output_type": "stream",
     "text": [
      "[6.356533333333334, 8.719133333333332, 8.809366666666667, 4.966400000000003, 2.8137, 2.040966666666667, 1.4499, 0.8220333333333334, 1.3219666666666667, 3.9783333333333335, 5.7595, 4.280466666666666, 3.6335999999999995]\n",
      "[0.027500000000000004, 2.0406666666666666, 11.64466666666667, 28.122333333333334, 52.602666666666664, 78.42766666666667, 93.96399999999998, 101.43333333333332, 106.35200000000002, 113.07433333333333, 119.88399999999997, 128.13766666666666, 140.14600000000002]\n"
     ]
    }
   ],
   "source": [
    "mean_death_us = meanPerMonth(new_death_per_million_us, 11)\n",
    "mean_vaccination_us = meanPerMonth(vaccination_rate_us, 11)\n",
    "\n",
    "print(mean_death_us)\n",
    "print(mean_vaccination_us)"
   ]
  },
  {
   "cell_type": "code",
   "execution_count": 788,
   "id": "6f2f5c00",
   "metadata": {},
   "outputs": [
    {
     "name": "stdout",
     "output_type": "stream",
     "text": [
      "-0.03729022264294441 6.873511920010051\n"
     ]
    }
   ],
   "source": [
    "b1, b0, y1, x1 = linearRegression(mean_death_us[0:-1], mean_vaccination_us[0:-1])\n",
    "print(b1, b0)"
   ]
  },
  {
   "cell_type": "code",
   "execution_count": 789,
   "id": "b3fcae5f",
   "metadata": {},
   "outputs": [
    {
     "data": {
      "image/png": "[encoded data removed]",
      "text/plain": [
       "<Figure size 576x360 with 1 Axes>"
      ]
     },
     "metadata": {
      "needs_background": "light"
     },
     "output_type": "display_data"
    }
   ],
   "source": [
    "ox = x1\n",
    "oy = b0 + b1 * ox\n",
    "\n",
    "plt.figure(figsize = (8, 5))\n",
    "plt.scatter(x1, y1, label='Data')\n",
    "plt.plot(ox, oy, color='red', label='Model')\n",
    "plt.xlabel('Vaccination rate', fontsize = 18)\n",
    "plt.ylabel('Death rate per million', fontsize = 18)\n",
    "plt.legend(loc='best')\n",
    "plt.show()"
   ]
  },
  {
   "cell_type": "code",
   "execution_count": 790,
   "id": "59ef1780",
   "metadata": {},
   "outputs": [
    {
     "name": "stdout",
     "output_type": "stream",
     "text": [
      "real: [6.35653333 8.71913333 8.80936667 4.9664     2.8137     2.04096667\n",
      " 1.4499     0.82203333 1.32196667 3.97833333 5.7595     4.28046667]\n",
      "pred: [6.87248644 6.79741501 6.43927971 5.82482385 4.91194677 3.94892677\n",
      " 3.36957344 3.09104034 2.90762216 2.65694485 2.40301087 2.0952298 ]\n",
      "Ошибка: 76.1%\n"
     ]
    }
   ],
   "source": [
    "z1 = b0 + b1 * x1\n",
    "\n",
    "print(f'real: {y1}')\n",
    "print(f'pred: {z1}')\n",
    "\n",
    "MAE(y1, z1)"
   ]
  },
  {
   "cell_type": "code",
   "execution_count": 791,
   "id": "913e4fed",
   "metadata": {
    "scrolled": true
   },
   "outputs": [
    {
     "name": "stdout",
     "output_type": "stream",
     "text": [
      "The coefficient of determination: 0.42894267232044153\n",
      "F=7.511376731008996 > Fc=4.9646027437307145 -> уравнение регрессии статистически значимо\n"
     ]
    }
   ],
   "source": [
    "### Coefficient of determination\n",
    "R2 = z1.var() / y1.var()\n",
    "print(f'The coefficient of determination: {R2}')\n",
    "\n",
    "n = len(y1)\n",
    "statEstimate(R, 1, n)"
   ]
  },
  {
   "cell_type": "code",
   "execution_count": 600,
   "id": "171a2b0d",
   "metadata": {},
   "outputs": [
    {
     "name": "stdout",
     "output_type": "stream",
     "text": [
      "T=2.677525915341367 > Tc=2.2621571627409915 ->  гипотеза H0 (b1 = 0) отвергается => b1 значим\n",
      "T=6.0946365644386455 > Tc=2.2621571627409915 ->  гипотеза H0 (b0 = 0) отвергается => b0 значим\n"
     ]
    }
   ],
   "source": [
    "n = len(y1)\n",
    "\n",
    "b1_errorEstimate(b1, x1, y1, z1, 1, n)\n",
    "b0__errorEstimate(b0, x1, y1, z1, 1, n)"
   ]
  },
  {
   "cell_type": "code",
   "execution_count": 601,
   "id": "e8e4c52d",
   "metadata": {
    "scrolled": true
   },
   "outputs": [
    {
     "name": "stdout",
     "output_type": "stream",
     "text": [
      "95% доверительный интервал для b1:(-0.061450830850485805, -0.0045812094826139516)\n",
      "95% доверительный интервал для b0: (4.168337324348513, 9.24255635088208)\n"
     ]
    }
   ],
   "source": [
    "b1_confidence(b1, x1, y1, z1, 1, n)\n",
    "b0_confidence(b0, x1, y1, z1, 1, n)"
   ]
  },
  {
   "cell_type": "markdown",
   "id": "6995e347",
   "metadata": {},
   "source": [
    "### Вывод\n",
    "Существует статистически значимая корреляция между средней смертностью от Covid-19 и уровнем вакцинации населения в США."
   ]
  },
  {
   "cell_type": "markdown",
   "id": "054e7bf5",
   "metadata": {},
   "source": [
    "### Covid statistics for United Kingdom"
   ]
  },
  {
   "cell_type": "code",
   "execution_count": 546,
   "id": "e81be21c",
   "metadata": {
    "scrolled": true
   },
   "outputs": [
    {
     "data": {
      "text/html": [
       "<div>\n",
       "<style scoped>\n",
       "    .dataframe tbody tr th:only-of-type {\n",
       "        vertical-align: middle;\n",
       "    }\n",
       "\n",
       "    .dataframe tbody tr th {\n",
       "        vertical-align: top;\n",
       "    }\n",
       "\n",
       "    .dataframe thead th {\n",
       "        text-align: right;\n",
       "    }\n",
       "</style>\n",
       "<table border=\"1\" class=\"dataframe\">\n",
       "  <thead>\n",
       "    <tr style=\"text-align: right;\">\n",
       "      <th></th>\n",
       "      <th>iso_code</th>\n",
       "      <th>continent</th>\n",
       "      <th>location</th>\n",
       "      <th>total_cases</th>\n",
       "      <th>new_cases</th>\n",
       "      <th>new_cases_smoothed</th>\n",
       "      <th>total_deaths</th>\n",
       "      <th>new_deaths</th>\n",
       "      <th>new_deaths_smoothed</th>\n",
       "      <th>total_cases_per_million</th>\n",
       "      <th>...</th>\n",
       "      <th>female_smokers</th>\n",
       "      <th>male_smokers</th>\n",
       "      <th>handwashing_facilities</th>\n",
       "      <th>hospital_beds_per_thousand</th>\n",
       "      <th>life_expectancy</th>\n",
       "      <th>human_development_index</th>\n",
       "      <th>excess_mortality_cumulative_absolute</th>\n",
       "      <th>excess_mortality_cumulative</th>\n",
       "      <th>excess_mortality</th>\n",
       "      <th>excess_mortality_cumulative_per_million</th>\n",
       "    </tr>\n",
       "    <tr>\n",
       "      <th>date</th>\n",
       "      <th></th>\n",
       "      <th></th>\n",
       "      <th></th>\n",
       "      <th></th>\n",
       "      <th></th>\n",
       "      <th></th>\n",
       "      <th></th>\n",
       "      <th></th>\n",
       "      <th></th>\n",
       "      <th></th>\n",
       "      <th></th>\n",
       "      <th></th>\n",
       "      <th></th>\n",
       "      <th></th>\n",
       "      <th></th>\n",
       "      <th></th>\n",
       "      <th></th>\n",
       "      <th></th>\n",
       "      <th></th>\n",
       "      <th></th>\n",
       "      <th></th>\n",
       "    </tr>\n",
       "  </thead>\n",
       "  <tbody>\n",
       "    <tr>\n",
       "      <th>2020-01-31</th>\n",
       "      <td>GBR</td>\n",
       "      <td>Europe</td>\n",
       "      <td>United Kingdom</td>\n",
       "      <td>2.0</td>\n",
       "      <td>2.0</td>\n",
       "      <td>NaN</td>\n",
       "      <td>NaN</td>\n",
       "      <td>NaN</td>\n",
       "      <td>NaN</td>\n",
       "      <td>0.029</td>\n",
       "      <td>...</td>\n",
       "      <td>20.0</td>\n",
       "      <td>24.7</td>\n",
       "      <td>NaN</td>\n",
       "      <td>2.54</td>\n",
       "      <td>81.32</td>\n",
       "      <td>0.932</td>\n",
       "      <td>NaN</td>\n",
       "      <td>NaN</td>\n",
       "      <td>NaN</td>\n",
       "      <td>NaN</td>\n",
       "    </tr>\n",
       "    <tr>\n",
       "      <th>2020-02-01</th>\n",
       "      <td>GBR</td>\n",
       "      <td>Europe</td>\n",
       "      <td>United Kingdom</td>\n",
       "      <td>2.0</td>\n",
       "      <td>0.0</td>\n",
       "      <td>NaN</td>\n",
       "      <td>NaN</td>\n",
       "      <td>NaN</td>\n",
       "      <td>NaN</td>\n",
       "      <td>0.029</td>\n",
       "      <td>...</td>\n",
       "      <td>20.0</td>\n",
       "      <td>24.7</td>\n",
       "      <td>NaN</td>\n",
       "      <td>2.54</td>\n",
       "      <td>81.32</td>\n",
       "      <td>0.932</td>\n",
       "      <td>NaN</td>\n",
       "      <td>NaN</td>\n",
       "      <td>NaN</td>\n",
       "      <td>NaN</td>\n",
       "    </tr>\n",
       "    <tr>\n",
       "      <th>2020-02-02</th>\n",
       "      <td>GBR</td>\n",
       "      <td>Europe</td>\n",
       "      <td>United Kingdom</td>\n",
       "      <td>2.0</td>\n",
       "      <td>0.0</td>\n",
       "      <td>NaN</td>\n",
       "      <td>NaN</td>\n",
       "      <td>NaN</td>\n",
       "      <td>NaN</td>\n",
       "      <td>0.029</td>\n",
       "      <td>...</td>\n",
       "      <td>20.0</td>\n",
       "      <td>24.7</td>\n",
       "      <td>NaN</td>\n",
       "      <td>2.54</td>\n",
       "      <td>81.32</td>\n",
       "      <td>0.932</td>\n",
       "      <td>-1956.3</td>\n",
       "      <td>-2.68</td>\n",
       "      <td>-5.6</td>\n",
       "      <td>-28.681759</td>\n",
       "    </tr>\n",
       "    <tr>\n",
       "      <th>2020-02-03</th>\n",
       "      <td>GBR</td>\n",
       "      <td>Europe</td>\n",
       "      <td>United Kingdom</td>\n",
       "      <td>8.0</td>\n",
       "      <td>6.0</td>\n",
       "      <td>NaN</td>\n",
       "      <td>NaN</td>\n",
       "      <td>NaN</td>\n",
       "      <td>NaN</td>\n",
       "      <td>0.117</td>\n",
       "      <td>...</td>\n",
       "      <td>20.0</td>\n",
       "      <td>24.7</td>\n",
       "      <td>NaN</td>\n",
       "      <td>2.54</td>\n",
       "      <td>81.32</td>\n",
       "      <td>0.932</td>\n",
       "      <td>NaN</td>\n",
       "      <td>NaN</td>\n",
       "      <td>NaN</td>\n",
       "      <td>NaN</td>\n",
       "    </tr>\n",
       "    <tr>\n",
       "      <th>2020-02-04</th>\n",
       "      <td>GBR</td>\n",
       "      <td>Europe</td>\n",
       "      <td>United Kingdom</td>\n",
       "      <td>8.0</td>\n",
       "      <td>0.0</td>\n",
       "      <td>NaN</td>\n",
       "      <td>NaN</td>\n",
       "      <td>NaN</td>\n",
       "      <td>NaN</td>\n",
       "      <td>0.117</td>\n",
       "      <td>...</td>\n",
       "      <td>20.0</td>\n",
       "      <td>24.7</td>\n",
       "      <td>NaN</td>\n",
       "      <td>2.54</td>\n",
       "      <td>81.32</td>\n",
       "      <td>0.932</td>\n",
       "      <td>NaN</td>\n",
       "      <td>NaN</td>\n",
       "      <td>NaN</td>\n",
       "      <td>NaN</td>\n",
       "    </tr>\n",
       "  </tbody>\n",
       "</table>\n",
       "<p>5 rows × 66 columns</p>\n",
       "</div>"
      ],
      "text/plain": [
       "           iso_code continent        location  total_cases  new_cases  \\\n",
       "date                                                                    \n",
       "2020-01-31      GBR    Europe  United Kingdom          2.0        2.0   \n",
       "2020-02-01      GBR    Europe  United Kingdom          2.0        0.0   \n",
       "2020-02-02      GBR    Europe  United Kingdom          2.0        0.0   \n",
       "2020-02-03      GBR    Europe  United Kingdom          8.0        6.0   \n",
       "2020-02-04      GBR    Europe  United Kingdom          8.0        0.0   \n",
       "\n",
       "            new_cases_smoothed  total_deaths  new_deaths  new_deaths_smoothed  \\\n",
       "date                                                                            \n",
       "2020-01-31                 NaN           NaN         NaN                  NaN   \n",
       "2020-02-01                 NaN           NaN         NaN                  NaN   \n",
       "2020-02-02                 NaN           NaN         NaN                  NaN   \n",
       "2020-02-03                 NaN           NaN         NaN                  NaN   \n",
       "2020-02-04                 NaN           NaN         NaN                  NaN   \n",
       "\n",
       "            total_cases_per_million  ...  female_smokers  male_smokers  \\\n",
       "date                                 ...                                 \n",
       "2020-01-31                    0.029  ...            20.0          24.7   \n",
       "2020-02-01                    0.029  ...            20.0          24.7   \n",
       "2020-02-02                    0.029  ...            20.0          24.7   \n",
       "2020-02-03                    0.117  ...            20.0          24.7   \n",
       "2020-02-04                    0.117  ...            20.0          24.7   \n",
       "\n",
       "            handwashing_facilities  hospital_beds_per_thousand  \\\n",
       "date                                                             \n",
       "2020-01-31                     NaN                        2.54   \n",
       "2020-02-01                     NaN                        2.54   \n",
       "2020-02-02                     NaN                        2.54   \n",
       "2020-02-03                     NaN                        2.54   \n",
       "2020-02-04                     NaN                        2.54   \n",
       "\n",
       "            life_expectancy  human_development_index  \\\n",
       "date                                                   \n",
       "2020-01-31            81.32                    0.932   \n",
       "2020-02-01            81.32                    0.932   \n",
       "2020-02-02            81.32                    0.932   \n",
       "2020-02-03            81.32                    0.932   \n",
       "2020-02-04            81.32                    0.932   \n",
       "\n",
       "            excess_mortality_cumulative_absolute  excess_mortality_cumulative  \\\n",
       "date                                                                            \n",
       "2020-01-31                                   NaN                          NaN   \n",
       "2020-02-01                                   NaN                          NaN   \n",
       "2020-02-02                               -1956.3                        -2.68   \n",
       "2020-02-03                                   NaN                          NaN   \n",
       "2020-02-04                                   NaN                          NaN   \n",
       "\n",
       "            excess_mortality  excess_mortality_cumulative_per_million  \n",
       "date                                                                   \n",
       "2020-01-31               NaN                                      NaN  \n",
       "2020-02-01               NaN                                      NaN  \n",
       "2020-02-02              -5.6                               -28.681759  \n",
       "2020-02-03               NaN                                      NaN  \n",
       "2020-02-04               NaN                                      NaN  \n",
       "\n",
       "[5 rows x 66 columns]"
      ]
     },
     "execution_count": 546,
     "metadata": {},
     "output_type": "execute_result"
    }
   ],
   "source": [
    "df_uk = data[data['iso_code'] == 'GBR']\n",
    "df_uk.head()"
   ]
  },
  {
   "cell_type": "code",
   "execution_count": 545,
   "id": "eb9a90ff",
   "metadata": {
    "scrolled": true
   },
   "outputs": [
    {
     "data": {
      "image/png": "[encoded data removed]",
      "text/plain": [
       "<Figure size 864x360 with 1 Axes>"
      ]
     },
     "metadata": {
      "needs_background": "light"
     },
     "output_type": "display_data"
    }
   ],
   "source": [
    "plt.figure(figsize = (12, 5))\n",
    "plt.plot(df_uk.new_cases_smoothed, label = 'New cases')\n",
    "plt.plot(df_uk.new_vaccinations_smoothed, label = 'New vaccination cases')\n",
    "plt.plot(df_uk.people_vaccinated_per_hundred, label = 'Relative vaccination rate, %')\n",
    "plt.plot(df_uk.new_deaths_smoothed, label = 'New death cases')\n",
    "plt.yscale('log')\n",
    "plt.axhline(y=100, color='y', linestyle='-', label = 'Potential 100% vaccination rate')\n",
    "plt.xlabel('Date', fontsize = 14)\n",
    "plt.ylabel('Number of cases', fontsize = 14)\n",
    "plt.title('Covid conditions in UK', fontsize = 16)\n",
    "plt.legend()\n",
    "plt.show()"
   ]
  },
  {
   "cell_type": "markdown",
   "id": "29595d79",
   "metadata": {},
   "source": [
    "### Проверим те же величины на корреляцию в Великобритании:\n",
    "Оценим корреляцию новых случаев Covid-19 и скоростью вакцинации населения."
   ]
  },
  {
   "cell_type": "code",
   "execution_count": 858,
   "id": "d13eb88a",
   "metadata": {},
   "outputs": [],
   "source": [
    "### calculate average cases per month \n",
    "cases_per_month_uk = calcAverage(df_uk.new_cases_per_million)"
   ]
  },
  {
   "cell_type": "code",
   "execution_count": 873,
   "id": "ff7f908d",
   "metadata": {
    "scrolled": true
   },
   "outputs": [
    {
     "data": {
      "image/png": "[encoded data removed]",
      "text/plain": [
       "<Figure size 864x360 with 1 Axes>"
      ]
     },
     "metadata": {
      "needs_background": "light"
     },
     "output_type": "display_data"
    }
   ],
   "source": [
    "plt.figure(figsize = (12, 5))\n",
    "sns.boxplot(data=cases_per_month_uk)\n",
    "plt.ylabel('New cases of Covid-19', fontsize = 16)\n",
    "plt.xlabel('Months of pandemy (30 days)', fontsize = 16)\n",
    "plt.show()"
   ]
  },
  {
   "cell_type": "code",
   "execution_count": 860,
   "id": "49a8eb19",
   "metadata": {},
   "outputs": [],
   "source": [
    "### calculate average vaccination rate per month \n",
    "vaccine_per_month_uk = calcAverage(df_uk.new_vaccinations_smoothed_per_million)"
   ]
  },
  {
   "cell_type": "code",
   "execution_count": 874,
   "id": "7b83c430",
   "metadata": {},
   "outputs": [
    {
     "data": {
      "image/png": "[encoded data removed]",
      "text/plain": [
       "<Figure size 864x360 with 1 Axes>"
      ]
     },
     "metadata": {
      "needs_background": "light"
     },
     "output_type": "display_data"
    }
   ],
   "source": [
    "plt.figure(figsize = (12, 5))\n",
    "sns.boxplot(data=vaccine_per_month_uk)\n",
    "plt.ylabel('Vaccination cases per million', fontsize = 16)\n",
    "plt.xlabel('Months of pandemy (30 days)', fontsize = 16)\n",
    "plt.show()"
   ]
  },
  {
   "cell_type": "code",
   "execution_count": 875,
   "id": "1ef5400b",
   "metadata": {},
   "outputs": [
    {
     "name": "stdout",
     "output_type": "stream",
     "text": [
      "[698.8077999999999, 238.92863333333338, 90.97873333333334, 41.92530000000001, 30.324266666666666, 99.31813333333334, 478.3724333333333, 420.64289999999994, 492.79260000000005, 561.9517, 574.6531]\n",
      "[4034.5, 5938.0, 6199.266666666666, 6752.433333333333, 7433.8, 7197.8, 4077.8333333333335, 2944.3, 2013.6, 3062.7, 5585.7]\n"
     ]
    }
   ],
   "source": [
    "mean_cases_uk = meanPerMonth(cases_per_month_uk, 12)\n",
    "mean_vaccination_rate_uk = meanPerMonth(vaccine_per_month_uk, 12)\n",
    "\n",
    "print(mean_cases_uk)\n",
    "print(mean_vaccination_rate_uk)"
   ]
  },
  {
   "cell_type": "code",
   "execution_count": 876,
   "id": "6c4b0387",
   "metadata": {
    "scrolled": true
   },
   "outputs": [
    {
     "name": "stdout",
     "output_type": "stream",
     "text": [
      "-0.10201342413025065 851.2645770963732\n"
     ]
    }
   ],
   "source": [
    "b1, b0, y1, x1 = linearRegression(mean_cases_uk, mean_vaccination_rate_uk)\n",
    "print(b1, b0)"
   ]
  },
  {
   "cell_type": "code",
   "execution_count": 877,
   "id": "e3fad2c7",
   "metadata": {
    "scrolled": true
   },
   "outputs": [
    {
     "data": {
      "image/png": "[encoded data removed]",
      "text/plain": [
       "<Figure size 576x360 with 1 Axes>"
      ]
     },
     "metadata": {
      "needs_background": "light"
     },
     "output_type": "display_data"
    }
   ],
   "source": [
    "ox = x1\n",
    "oy = b0 + b1 * ox\n",
    "\n",
    "plt.figure(figsize = (8, 5))\n",
    "plt.scatter(x1, y1, label='Data')\n",
    "plt.plot(ox, oy, color='red', label='Model')\n",
    "plt.xlabel('Vaccination rate per million', fontsize = 18)\n",
    "plt.ylabel('New cases', fontsize = 18)\n",
    "plt.legend(loc='best')\n",
    "plt.show()"
   ]
  },
  {
   "cell_type": "code",
   "execution_count": 878,
   "id": "8384bde5",
   "metadata": {},
   "outputs": [
    {
     "name": "stdout",
     "output_type": "stream",
     "text": [
      "real: [698.8078     238.92863333  90.97873333  41.9253      30.32426667\n",
      "  99.31813333 478.37243333 420.6429     492.7926     561.9517\n",
      " 574.6531    ]\n",
      "pred: [439.69141744 245.50886461 218.85615733 162.42573155  92.9171848\n",
      " 116.99235289 435.27083573 550.90645243 645.85034627 538.82806301\n",
      " 281.44819393]\n",
      "Ошибка: 74.4%\n"
     ]
    }
   ],
   "source": [
    "z1 = b0 + b1 * x1\n",
    "\n",
    "print(f'real: {y1}')\n",
    "print(f'pred: {z1}')\n",
    "\n",
    "MAE(y1,z1)"
   ]
  },
  {
   "cell_type": "code",
   "execution_count": 879,
   "id": "3dfc8e78",
   "metadata": {},
   "outputs": [
    {
     "name": "stdout",
     "output_type": "stream",
     "text": [
      "The coefficient of determination: 0.6129608035412464\n",
      "F=14.253458777163209 > Fc=5.117355029199227 -> уравнение регрессии статистически значимо\n"
     ]
    }
   ],
   "source": [
    "### Coefficient of determination\n",
    "R2 = z1.var() / y1.var()\n",
    "print(f'The coefficient of determination: {R2}')\n",
    "\n",
    "n = len(y1)\n",
    "statEstimate(R, 1, n)"
   ]
  },
  {
   "cell_type": "code",
   "execution_count": 880,
   "id": "3b98e061",
   "metadata": {},
   "outputs": [
    {
     "name": "stdout",
     "output_type": "stream",
     "text": [
      "T=3.7753753160663694 > Tc=2.3646242510102993 ->  гипотеза H0 (b1 = 0) отвергается => b1 значим\n",
      "T=5.910078723844469 > Tc=2.3646242510102993 ->  гипотеза H0 (b0 = 0) отвергается => b0 значим\n",
      "95% доверительный интервал для b1:(-0.16432324404226453, -0.03970360421823676)\n",
      "95% доверительный интервал для b0: (519.1173745786871, 1183.4117796140592)\n"
     ]
    }
   ],
   "source": [
    "n = len(y1)\n",
    "\n",
    "b1_errorEstimate(b1, x1, y1, z1, 1, n)\n",
    "b0__errorEstimate(b0, x1, y1, z1, 1, n)\n",
    "\n",
    "b1_confidence(b1, x1, y1, z1, 1, n)\n",
    "b0_confidence(b0, x1, y1, z1, 1, n)"
   ]
  },
  {
   "cell_type": "markdown",
   "id": "f399c20d",
   "metadata": {},
   "source": [
    "### Вывод\n",
    "В отличие от США в Великобритании наблюдается статистически значимая обратная корреляция между новыми случами Covid и скоростью вакцинации.\n",
    "\n",
    "### Задача\n",
    "Оценить корреляцию между уровнем вакцинации населения и средним уровнем смертности от Covid-19 в Великобритании."
   ]
  },
  {
   "cell_type": "code",
   "execution_count": 881,
   "id": "73bc08ee",
   "metadata": {},
   "outputs": [
    {
     "data": {
      "text/html": [
       "<div>\n",
       "<style scoped>\n",
       "    .dataframe tbody tr th:only-of-type {\n",
       "        vertical-align: middle;\n",
       "    }\n",
       "\n",
       "    .dataframe tbody tr th {\n",
       "        vertical-align: top;\n",
       "    }\n",
       "\n",
       "    .dataframe thead th {\n",
       "        text-align: right;\n",
       "    }\n",
       "</style>\n",
       "<table border=\"1\" class=\"dataframe\">\n",
       "  <thead>\n",
       "    <tr style=\"text-align: right;\">\n",
       "      <th></th>\n",
       "      <th>1</th>\n",
       "      <th>2</th>\n",
       "      <th>3</th>\n",
       "      <th>4</th>\n",
       "      <th>5</th>\n",
       "      <th>6</th>\n",
       "      <th>7</th>\n",
       "      <th>8</th>\n",
       "      <th>9</th>\n",
       "      <th>10</th>\n",
       "      <th>...</th>\n",
       "      <th>13</th>\n",
       "      <th>14</th>\n",
       "      <th>15</th>\n",
       "      <th>16</th>\n",
       "      <th>17</th>\n",
       "      <th>18</th>\n",
       "      <th>19</th>\n",
       "      <th>20</th>\n",
       "      <th>21</th>\n",
       "      <th>22</th>\n",
       "    </tr>\n",
       "  </thead>\n",
       "  <tbody>\n",
       "    <tr>\n",
       "      <th>0</th>\n",
       "      <td>NaN</td>\n",
       "      <td>NaN</td>\n",
       "      <td>5.923</td>\n",
       "      <td>9.325</td>\n",
       "      <td>2.258</td>\n",
       "      <td>0.308</td>\n",
       "      <td>0.498</td>\n",
       "      <td>0.132</td>\n",
       "      <td>0.249</td>\n",
       "      <td>5.381</td>\n",
       "      <td>...</td>\n",
       "      <td>8.709</td>\n",
       "      <td>6.495</td>\n",
       "      <td>1.041</td>\n",
       "      <td>0.161</td>\n",
       "      <td>0.220</td>\n",
       "      <td>0.308</td>\n",
       "      <td>1.290</td>\n",
       "      <td>0.616</td>\n",
       "      <td>2.463</td>\n",
       "      <td>2.654</td>\n",
       "    </tr>\n",
       "    <tr>\n",
       "      <th>1</th>\n",
       "      <td>NaN</td>\n",
       "      <td>NaN</td>\n",
       "      <td>9.867</td>\n",
       "      <td>10.263</td>\n",
       "      <td>0.880</td>\n",
       "      <td>0.792</td>\n",
       "      <td>0.000</td>\n",
       "      <td>0.176</td>\n",
       "      <td>0.191</td>\n",
       "      <td>4.545</td>\n",
       "      <td>...</td>\n",
       "      <td>23.986</td>\n",
       "      <td>4.750</td>\n",
       "      <td>0.850</td>\n",
       "      <td>0.103</td>\n",
       "      <td>0.132</td>\n",
       "      <td>0.264</td>\n",
       "      <td>0.411</td>\n",
       "      <td>2.551</td>\n",
       "      <td>2.859</td>\n",
       "      <td>1.979</td>\n",
       "    </tr>\n",
       "    <tr>\n",
       "      <th>2</th>\n",
       "      <td>NaN</td>\n",
       "      <td>NaN</td>\n",
       "      <td>9.632</td>\n",
       "      <td>8.577</td>\n",
       "      <td>1.261</td>\n",
       "      <td>1.422</td>\n",
       "      <td>0.293</td>\n",
       "      <td>0.015</td>\n",
       "      <td>1.056</td>\n",
       "      <td>4.105</td>\n",
       "      <td>...</td>\n",
       "      <td>25.305</td>\n",
       "      <td>5.058</td>\n",
       "      <td>0.308</td>\n",
       "      <td>0.249</td>\n",
       "      <td>0.147</td>\n",
       "      <td>0.337</td>\n",
       "      <td>0.205</td>\n",
       "      <td>2.185</td>\n",
       "      <td>2.639</td>\n",
       "      <td>1.056</td>\n",
       "    </tr>\n",
       "    <tr>\n",
       "      <th>3</th>\n",
       "      <td>NaN</td>\n",
       "      <td>NaN</td>\n",
       "      <td>10.805</td>\n",
       "      <td>3.709</td>\n",
       "      <td>3.665</td>\n",
       "      <td>0.601</td>\n",
       "      <td>0.191</td>\n",
       "      <td>0.044</td>\n",
       "      <td>1.041</td>\n",
       "      <td>4.017</td>\n",
       "      <td>...</td>\n",
       "      <td>18.165</td>\n",
       "      <td>4.266</td>\n",
       "      <td>0.337</td>\n",
       "      <td>0.425</td>\n",
       "      <td>0.147</td>\n",
       "      <td>0.161</td>\n",
       "      <td>1.921</td>\n",
       "      <td>2.082</td>\n",
       "      <td>1.891</td>\n",
       "      <td>0.586</td>\n",
       "    </tr>\n",
       "    <tr>\n",
       "      <th>4</th>\n",
       "      <td>NaN</td>\n",
       "      <td>NaN</td>\n",
       "      <td>11.099</td>\n",
       "      <td>4.003</td>\n",
       "      <td>3.724</td>\n",
       "      <td>0.718</td>\n",
       "      <td>0.073</td>\n",
       "      <td>0.044</td>\n",
       "      <td>0.865</td>\n",
       "      <td>4.780</td>\n",
       "      <td>...</td>\n",
       "      <td>18.297</td>\n",
       "      <td>2.111</td>\n",
       "      <td>0.806</td>\n",
       "      <td>0.367</td>\n",
       "      <td>0.103</td>\n",
       "      <td>0.044</td>\n",
       "      <td>1.862</td>\n",
       "      <td>1.481</td>\n",
       "      <td>0.938</td>\n",
       "      <td>3.856</td>\n",
       "    </tr>\n",
       "  </tbody>\n",
       "</table>\n",
       "<p>5 rows × 22 columns</p>\n",
       "</div>"
      ],
      "text/plain": [
       "   1   2       3       4      5      6      7      8      9      10  ...  \\\n",
       "0 NaN NaN   5.923   9.325  2.258  0.308  0.498  0.132  0.249  5.381  ...   \n",
       "1 NaN NaN   9.867  10.263  0.880  0.792  0.000  0.176  0.191  4.545  ...   \n",
       "2 NaN NaN   9.632   8.577  1.261  1.422  0.293  0.015  1.056  4.105  ...   \n",
       "3 NaN NaN  10.805   3.709  3.665  0.601  0.191  0.044  1.041  4.017  ...   \n",
       "4 NaN NaN  11.099   4.003  3.724  0.718  0.073  0.044  0.865  4.780  ...   \n",
       "\n",
       "       13     14     15     16     17     18     19     20     21     22  \n",
       "0   8.709  6.495  1.041  0.161  0.220  0.308  1.290  0.616  2.463  2.654  \n",
       "1  23.986  4.750  0.850  0.103  0.132  0.264  0.411  2.551  2.859  1.979  \n",
       "2  25.305  5.058  0.308  0.249  0.147  0.337  0.205  2.185  2.639  1.056  \n",
       "3  18.165  4.266  0.337  0.425  0.147  0.161  1.921  2.082  1.891  0.586  \n",
       "4  18.297  2.111  0.806  0.367  0.103  0.044  1.862  1.481  0.938  3.856  \n",
       "\n",
       "[5 rows x 22 columns]"
      ]
     },
     "execution_count": 881,
     "metadata": {},
     "output_type": "execute_result"
    }
   ],
   "source": [
    "### calculation average death rate\n",
    "new_death_per_million_uk = calcAverage(df_uk.new_deaths_per_million)\n",
    "vaccination_rate_uk = calcAverage(df_uk.total_vaccinations_per_hundred)\n",
    "\n",
    "new_death_per_million_uk.head()"
   ]
  },
  {
   "cell_type": "code",
   "execution_count": 882,
   "id": "b0988f00",
   "metadata": {},
   "outputs": [
    {
     "data": {
      "image/png": "[encoded data removed]",
      "text/plain": [
       "<Figure size 864x432 with 1 Axes>"
      ]
     },
     "metadata": {
      "needs_background": "light"
     },
     "output_type": "display_data"
    }
   ],
   "source": [
    "plt.figure(figsize = (12, 6))\n",
    "sns.boxplot(data=new_death_per_million_uk)\n",
    "plt.ylabel('New death cases per million', fontsize = 16)\n",
    "plt.xlabel('Months of pandemy (30 days)', fontsize = 16)\n",
    "plt.show()"
   ]
  },
  {
   "cell_type": "code",
   "execution_count": 883,
   "id": "bfb69402",
   "metadata": {},
   "outputs": [
    {
     "name": "stdout",
     "output_type": "stream",
     "text": [
      "[13.599266666666667, 11.439133333333332, 2.515833333333333, 0.4818333333333332, 0.1544666666666666, 0.14913333333333334, 0.5077333333333334, 1.2843333333333333, 1.8741999999999999, 1.841933333333333, 2.3194333333333335]\n",
      "[6.819333333333333, 19.580333333333336, 37.01200000000001, 57.765666666666675, 78.86166666666668, 101.63499999999999, 117.35466666666666, 126.88733333333334, 134.501, 141.01566666666668, 155.55733333333333]\n"
     ]
    }
   ],
   "source": [
    "mean_death_uk = meanPerMonth(new_death_per_million_uk, 12)\n",
    "mean_vaccination_uk = meanPerMonth(vaccination_rate_uk, 12)\n",
    "\n",
    "print(mean_death_uk)\n",
    "print(mean_vaccination_uk)"
   ]
  },
  {
   "cell_type": "code",
   "execution_count": 884,
   "id": "df833892",
   "metadata": {},
   "outputs": [
    {
     "name": "stdout",
     "output_type": "stream",
     "text": [
      "-0.0716718127743089 9.272143495870129\n"
     ]
    }
   ],
   "source": [
    "b1, b0, y1, x1 = linearRegression(mean_death_uk[0:-1], mean_vaccination_uk[0:-1])\n",
    "print(b1, b0)"
   ]
  },
  {
   "cell_type": "code",
   "execution_count": 885,
   "id": "dbe7b547",
   "metadata": {},
   "outputs": [
    {
     "data": {
      "image/png": "[encoded data removed]",
      "text/plain": [
       "<Figure size 576x360 with 1 Axes>"
      ]
     },
     "metadata": {
      "needs_background": "light"
     },
     "output_type": "display_data"
    }
   ],
   "source": [
    "ox = x1\n",
    "oy = b0 + b1 * ox\n",
    "\n",
    "plt.figure(figsize = (8, 5))\n",
    "plt.scatter(x1, y1, label='Data')\n",
    "plt.plot(ox, oy, color='red', label='Model')\n",
    "plt.xlabel('Vaccinations per hundred', fontsize = 18)\n",
    "plt.ylabel('Death cases per million', fontsize = 18)\n",
    "plt.legend(loc='best')\n",
    "plt.show()"
   ]
  },
  {
   "cell_type": "code",
   "execution_count": 886,
   "id": "9b043057",
   "metadata": {},
   "outputs": [
    {
     "name": "stdout",
     "output_type": "stream",
     "text": [
      "real: [13.59926667 11.43913333  2.51583333  0.48183333  0.15446667  0.14913333\n",
      "  0.50773333  1.28433333  1.8742      1.84193333]\n",
      "pred: [ 8.78338951  7.86878551  6.61942636  5.13197345  3.61998489  1.9877788\n",
      "  0.8611218   0.1778983  -0.36778699 -0.83470496]\n",
      "Ошибка: 509.2%\n"
     ]
    }
   ],
   "source": [
    "z1 = b0 + b1 * x1\n",
    "\n",
    "print(f'real: {y1}')\n",
    "print(f'pred: {z1}')\n",
    "\n",
    "MAE(y1, z1)"
   ]
  },
  {
   "cell_type": "code",
   "execution_count": 887,
   "id": "17ed78e3",
   "metadata": {},
   "outputs": [
    {
     "name": "stdout",
     "output_type": "stream",
     "text": [
      "The coefficient of determination: 0.5230302755082978\n",
      "F=8.772553034734967 > Fc=5.317655071578714 -> уравнение регрессии статистически значимо\n"
     ]
    }
   ],
   "source": [
    "### Coefficient of determination\n",
    "R2 = z1.var() / y1.var()\n",
    "print(f'The coefficient of determination: {R2}')\n",
    "\n",
    "n = len(y1)\n",
    "statEstimate(R, 1, n)"
   ]
  },
  {
   "cell_type": "markdown",
   "id": "3e42b5d8",
   "metadata": {},
   "source": [
    "### Оценка полученной статистики:\n",
    "Ошибка между наблюдаемыми и моделируемыми значениями довольно высокая, вероятно, это связано с другими дополнительными факторами, которые не представленны в таблице. В то же время уравнение регрессии удовлетворяет критерию Фишера, поэтому найдем оценки ошибок коэффициентов линейной регрессии."
   ]
  },
  {
   "cell_type": "code",
   "execution_count": 784,
   "id": "a7f8f5b8",
   "metadata": {
    "scrolled": true
   },
   "outputs": [
    {
     "name": "stdout",
     "output_type": "stream",
     "text": [
      "T=2.9618495969132117 > Tc=2.4469118487916806 ->  гипотеза H0 (b1 = 0) отвергается => b1 значим\n",
      "T=4.049495399947177 > Tc=2.4469118487916806 ->  гипотеза H0 (b0 = 0) отвергается => b0 значим\n",
      "95% доверительный интервал для b1:(-0.12747316083391438, -0.015870464714703415)\n",
      "95% доверительный интервал для b0: (3.9920873926441756, 14.552199599096081)\n"
     ]
    }
   ],
   "source": [
    "n = len(y1)\n",
    "\n",
    "b1_errorEstimate(b1, x1, y1, z1, 1, n)\n",
    "b0__errorEstimate(b0, x1, y1, z1, 1, n)\n",
    "\n",
    "b1_confidence(b1, x1, y1, z1, 1, n)\n",
    "b0_confidence(b0, x1, y1, z1, 1, n)"
   ]
  },
  {
   "cell_type": "markdown",
   "id": "4cc71c55",
   "metadata": {},
   "source": [
    "### Сравнение США и Великобритании\n",
    "1. Сравнение среднего уровня новых случаев Covid-19 в месяц на миллион человек\n",
    "2. Сравнение среднего уровня госпитализации на миллион человек\n",
    "3. Сравнение среднего уровня смертности на миллион человек"
   ]
  },
  {
   "cell_type": "code",
   "execution_count": 889,
   "id": "bdeec9f4",
   "metadata": {
    "scrolled": true
   },
   "outputs": [
    {
     "name": "stdout",
     "output_type": "stream",
     "text": [
      "[0.0013448275862068967, 2.6043666666666665, 77.39673333333334, 76.35283333333332, 66.03566666666667, 156.08263333333332, 170.69923333333332, 119.64670000000002, 143.99159999999998, 320.2694666666667, 582.6233333333333, 658.2042000000001, 407.3829, 184.3437333333334, 195.31053333333332, 143.53223333333335, 55.03263333333333, 47.97943333333333, 267.0930333333333, 441.0033, 350.70820000000003, 226.4186, 302.0389333333333]\n"
     ]
    }
   ],
   "source": [
    "mean_cases_us = meanPerMonth(cases_per_month_us, 1)\n",
    "print(mean_cases_us)"
   ]
  },
  {
   "cell_type": "code",
   "execution_count": 891,
   "id": "7dd94b0a",
   "metadata": {
    "scrolled": true
   },
   "outputs": [
    {
     "name": "stdout",
     "output_type": "stream",
     "text": [
      "[0.0299, 16.7235, 68.1874, 39.85649999999999, 14.0895, 8.830366666666666, 14.7824, 48.5336, 227.70013333333333, 324.0781, 326.0051, 698.8077999999999, 238.92863333333338, 90.97873333333334, 41.92530000000001, 30.324266666666666, 99.31813333333334, 478.3724333333333, 420.64289999999994, 492.79260000000005, 561.9517, 574.6531]\n"
     ]
    }
   ],
   "source": [
    "mean_cases_uk = meanPerMonth(cases_per_month_uk, 1)\n",
    "print(mean_cases_uk)"
   ]
  },
  {
   "cell_type": "code",
   "execution_count": 956,
   "id": "d4a01120",
   "metadata": {},
   "outputs": [
    {
     "name": "stdout",
     "output_type": "stream",
     "text": [
      "T=0.0009000408022989714>F_c=4.067047426426355 -> разлиие выборок незначимо!\n"
     ]
    }
   ],
   "source": [
    "disspersionAnalysis(mean_cases_us, mean_cases_uk)\n"
   ]
  },
  {
   "cell_type": "markdown",
   "id": "93e8ccf8",
   "metadata": {},
   "source": [
    "Между США и Великобританией не наблюдается статистическое различие между новыми случаями Covid-19"
   ]
  },
  {
   "cell_type": "code",
   "execution_count": 984,
   "id": "8c1470c3",
   "metadata": {
    "scrolled": true
   },
   "outputs": [
    {
     "name": "stderr",
     "output_type": "stream",
     "text": [
      "/tmp/ipykernel_8871/1416121995.py:25: RuntimeWarning: Mean of empty slice\n",
      "  val = np.nanmean(x)\n"
     ]
    }
   ],
   "source": [
    "hospitalisation_us = calcAverage(df_us.hosp_patients_per_million)\n",
    "mean_hosp_us = meanPerMonth(hospitalisation_us, 1)\n",
    "\n",
    "hospitalisation_uk = calcAverage(df_uk.hosp_patients_per_million)\n",
    "mean_hosp_uk = meanPerMonth(hospitalisation_uk, 1)"
   ]
  },
  {
   "cell_type": "code",
   "execution_count": 987,
   "id": "d8e7e42b",
   "metadata": {},
   "outputs": [
    {
     "name": "stdout",
     "output_type": "stream",
     "text": [
      "[0, 0, 0, 0, 0, 114.51019999999998, 132.27446666666665, 92.39146666666666, 87.16990000000001, 149.94663333333335, 283.54773333333327, 366.20039999999995, 281.89056666666664, 135.90983333333332, 107.83186666666667, 103.92173333333334, 58.04723333333333, 41.5159, 137.12856666666667, 279.8230333333333, 219.38970000000003, 137.55183333333332, 151.09196666666665]\n",
      "[0, 132.5485, 270.1463, 162.2440666666667, 76.67046666666667, 31.91893333333333, 15.318000000000003, 16.32813333333333, 78.23576666666666, 220.92563333333334, 260.88236666666666, 484.11659999999995, 381.2334666666667, 131.28153333333336, 41.6862, 16.9694, 16.23633333333333, 44.79743333333332, 88.82113333333334, 113.25103333333333, 104.4559, 129.4333]\n"
     ]
    }
   ],
   "source": [
    "print(mean_hosp_us)\n",
    "print(mean_hosp_uk)"
   ]
  },
  {
   "cell_type": "code",
   "execution_count": 988,
   "id": "d02dee0d",
   "metadata": {},
   "outputs": [
    {
     "name": "stdout",
     "output_type": "stream",
     "text": [
      "T=0.006845277648990469>F_c=4.067047426426355 -> разлиие выборок незначимо!\n"
     ]
    }
   ],
   "source": [
    "disspersionAnalysis(mean_hosp_us, mean_hosp_uk)"
   ]
  },
  {
   "cell_type": "markdown",
   "id": "7df33428",
   "metadata": {},
   "source": [
    "Между США и Великобританией не наблюдается статистическое различие между средним числом госпитализаций."
   ]
  },
  {
   "cell_type": "code",
   "execution_count": 996,
   "id": "948bc0ab",
   "metadata": {},
   "outputs": [
    {
     "name": "stdout",
     "output_type": "stream",
     "text": [
      "[0, 0.06477272727272727, 4.475966666666667, 5.1938666666666675, 2.4662999999999995, 1.9401000000000002, 3.0555333333333334, 2.578933333333333, 2.235233333333333, 2.8726666666666665, 6.356533333333334, 8.719133333333332, 8.809366666666667, 4.966400000000003, 2.8137, 2.040966666666667, 1.4499, 0.8220333333333334, 1.3219666666666667, 3.9783333333333335, 5.7595, 4.280466666666666, 3.6335999999999995]\n",
      "[0, 1.20392, 11.760766666666665, 5.471133333333332, 1.5106, 0.3987666666666667, 0.1681, 0.24233333333333335, 1.4798333333333331, 5.6407333333333325, 6.681633333333334, 13.599266666666667, 11.439133333333332, 2.515833333333333, 0.4818333333333332, 0.1544666666666666, 0.14913333333333334, 0.5077333333333334, 1.2843333333333333, 1.8741999999999999, 1.841933333333333, 2.3194333333333335]\n"
     ]
    },
    {
     "name": "stderr",
     "output_type": "stream",
     "text": [
      "/tmp/ipykernel_8871/1416121995.py:25: RuntimeWarning: Mean of empty slice\n",
      "  val = np.nanmean(x)\n"
     ]
    }
   ],
   "source": [
    "death_rate_us = calcAverage(df_us.new_deaths_per_million)\n",
    "mean_death_us = meanPerMonth(death_rate_us, 1)\n",
    "\n",
    "print(mean_death_us)\n",
    "\n",
    "death_rate_uk = calcAverage(df_uk.new_deaths_per_million)\n",
    "mean_death_uk = meanPerMonth(death_rate_uk, 1)\n",
    "\n",
    "print(mean_death_uk)"
   ]
  },
  {
   "cell_type": "code",
   "execution_count": 998,
   "id": "6fd648c4",
   "metadata": {
    "scrolled": true
   },
   "outputs": [
    {
     "name": "stdout",
     "output_type": "stream",
     "text": [
      "T=0.06550954236447548>F_c=4.067047426426355 -> разлиие выборок незначимо!\n"
     ]
    }
   ],
   "source": [
    "disspersionAnalysis(mean_death_us, mean_death_uk)"
   ]
  },
  {
   "cell_type": "markdown",
   "id": "737b97ba",
   "metadata": {},
   "source": [
    "Между США и Великобританией не наблюдается статистическое различие между средним уровнем смертности от Covid-19."
   ]
  },
  {
   "cell_type": "markdown",
   "id": "def50bdb",
   "metadata": {},
   "source": [
    "### Выводы\n",
    "1. США и Великобритания статистически значимо не отличаются друг от друга по основным показателям Covid-19.\n",
    "2. Подобным образом можно сравнить и другие страны между собой."
   ]
  }
 ],
 "metadata": {
  "kernelspec": {
   "display_name": "Python 3",
   "language": "python",
   "name": "python3"
  },
  "language_info": {
   "codemirror_mode": {
    "name": "ipython",
    "version": 3
   },
   "file_extension": ".py",
   "mimetype": "text/x-python",
   "name": "python",
   "nbconvert_exporter": "python",
   "pygments_lexer": "ipython3",
   "version": "3.8.10"
  }
 },
 "nbformat": 4,
 "nbformat_minor": 5
}
